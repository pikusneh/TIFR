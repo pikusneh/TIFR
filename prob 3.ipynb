{
 "cells": [
  {
   "cell_type": "code",
   "execution_count": null,
   "id": "35cc76c5",
   "metadata": {},
   "outputs": [],
   "source": [
    "with open('numbers.txt', 'r') as file:\n",
    "    lines = file.readlines()\n",
    "    for i in range(0, len(lines), 10):\n",
    "        print(' '.join(lines[i:i+10]))\n"
   ]
  },
  {
   "cell_type": "code",
   "execution_count": 3,
   "id": "fac09b7c",
   "metadata": {},
   "outputs": [],
   "source": [
    "import random\n",
    "\n",
    "with open('numbers.txt', 'r') as file:\n",
    "    lines = file.readlines()\n",
    "\n",
    "# Generate a random number between 5 and 15\n",
    "num_entries = random.randint(5, 15)\n",
    "\n",
    "# Randomly select 'num_entries' lines and save them to multi_numbers.txt\n",
    "random_entries = random.sample(lines, num_entries)\n",
    "with open('multi_numbers.txt', 'w') as outfile:\n",
    "    outfile.writelines(random_entries)\n"
   ]
  },
  {
   "cell_type": "code",
   "execution_count": 4,
   "id": "fe7a96a4",
   "metadata": {},
   "outputs": [
    {
     "name": "stdout",
     "output_type": "stream",
     "text": [
      "588302\n",
      " 525398\n",
      " 567157\n",
      " 533642\n",
      " 574051\n",
      " 534938\n",
      " 506831\n",
      " 548436\n",
      " 574229\n",
      " 594902\n",
      "\n",
      "542401\n",
      "\n"
     ]
    }
   ],
   "source": [
    "with open('multi_numbers.txt', 'r') as file:\n",
    "    lines = file.readlines()\n",
    "    formatted_lines = [' '.join(lines[i:i+10]) for i in range(0, len(lines), 10)]\n",
    "    for line in formatted_lines:\n",
    "        print(line)\n"
   ]
  },
  {
   "cell_type": "code",
   "execution_count": null,
   "id": "578d59c2",
   "metadata": {},
   "outputs": [],
   "source": []
  }
 ],
 "metadata": {
  "kernelspec": {
   "display_name": "Python 3 (ipykernel)",
   "language": "python",
   "name": "python3"
  },
  "language_info": {
   "codemirror_mode": {
    "name": "ipython",
    "version": 3
   },
   "file_extension": ".py",
   "mimetype": "text/x-python",
   "name": "python",
   "nbconvert_exporter": "python",
   "pygments_lexer": "ipython3",
   "version": "3.9.7"
  }
 },
 "nbformat": 4,
 "nbformat_minor": 5
}
