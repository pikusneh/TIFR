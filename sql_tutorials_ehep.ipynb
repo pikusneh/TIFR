{
  "nbformat": 4,
  "nbformat_minor": 0,
  "metadata": {
    "colab": {
      "provenance": [],
      "include_colab_link": true
    },
    "kernelspec": {
      "name": "python3",
      "display_name": "Python 3"
    },
    "language_info": {
      "name": "python"
    }
  },
  "cells": [
    {
      "cell_type": "markdown",
      "metadata": {
        "id": "view-in-github",
        "colab_type": "text"
      },
      "source": [
        "<a href=\"https://colab.research.google.com/github/pikusneh/TIFR/blob/main/sql_tutorials_ehep.ipynb\" target=\"_parent\"><img src=\"https://colab.research.google.com/assets/colab-badge.svg\" alt=\"Open In Colab\"/></a>"
      ]
    },
    {
      "cell_type": "markdown",
      "source": [
        "# Introduction to SQL\n",
        "\n",
        "In this tutorial you will get introduced to Structured Query Language (SQL) using a simple relational database management system (RDBMS) called sqlite3.\n",
        "\n",
        "I will demonstrate this using a series of examples and assignments (graded).\n",
        "\n",
        "In the following exercise, our task is to create a database which contains the scores of each student participating in the EHEP 2023 school. Since the student will be graded for each session separately, we need to store the score of each session separately.\n",
        "\n"
      ],
      "metadata": {
        "id": "wQUVgqZPqM7e"
      }
    },
    {
      "cell_type": "markdown",
      "source": [
        "# Creating a database"
      ],
      "metadata": {
        "id": "sLSJT1BF51OY"
      }
    },
    {
      "cell_type": "code",
      "execution_count": null,
      "metadata": {
        "id": "5TjsfFMtn9ZV"
      },
      "outputs": [],
      "source": [
        "import sqlite3\n",
        "connection = sqlite3.connect(\"ehep.db\") # this creates/opens a database named ehep.db"
      ]
    },
    {
      "cell_type": "markdown",
      "source": [
        "# Creating a student table\n",
        "\n",
        "For this, we first create a cursor object.  Cursor objects allow us to send SQL statements to a SQLite database using cursor.execute().\n",
        "The SQL command for this is:\n",
        "\n",
        "The keyword to create a table is **CREATE TABLE**\n",
        "\n",
        "```\n",
        "CREATE TABLE student (name TEXT, email TEXT)\n",
        "```\n",
        "\n",
        "Note the syntax, the first column is named 'name' and is of TEXT type, the second column is named 'email' and is of TEXT type...\n",
        "This format is called a SQL command or SQL query and it works for all databases and in variety of other languagegs like C/C++\n",
        "All accessess are made through such queries. We will see only a few important queries in this tutorial, good enough to get started.\n"
      ],
      "metadata": {
        "id": "au9ZsHGL2J82"
      }
    },
    {
      "cell_type": "code",
      "source": [
        "cursor = connection.cursor()\n",
        "cursor.execute(\"CREATE TABLE student (name TEXT, email TEXT)\")\n"
      ],
      "metadata": {
        "colab": {
          "base_uri": "https://localhost:8080/"
        },
        "id": "3esL8Liz1vtM",
        "outputId": "f019aa5c-54fb-4f3d-8dbd-93c1ddb9ab88"
      },
      "execution_count": null,
      "outputs": [
        {
          "output_type": "execute_result",
          "data": {
            "text/plain": [
              "<sqlite3.Cursor at 0x7c3e18354840>"
            ]
          },
          "metadata": {},
          "execution_count": 2
        }
      ]
    },
    {
      "cell_type": "markdown",
      "source": [
        "# Inserting data into student tables\n",
        "\n",
        "In this task, you will insert dummy data into the student table.\n",
        "Since the student table has two columns named name and email, we will have to insert two values.\n",
        "\n",
        "The following segment shows how to insert 6 rows of student data.\n",
        "\n",
        "The keyword to insert data into a table is **INSERT INTO**"
      ],
      "metadata": {
        "id": "lfUAZ2MD5_Wz"
      }
    },
    {
      "cell_type": "code",
      "source": [
        "cursor.execute(\"INSERT INTO student VALUES ('student 1', 'student1@gmail.com')\")\n",
        "cursor.execute(\"INSERT INTO student VALUES ('student 2', 'student2@gmail.com')\")\n",
        "cursor.execute(\"INSERT INTO student VALUES ('student 3', 'student3@gmail.com')\")\n",
        "cursor.execute(\"INSERT INTO student VALUES ('student 4', 'student4@gmail.com')\")\n",
        "cursor.execute(\"INSERT INTO student VALUES ('student 5', 'student5@gmail.com')\")\n",
        "cursor.execute(\"INSERT INTO student VALUES ('student 6', 'student6@gmail.com')\")"
      ],
      "metadata": {
        "colab": {
          "base_uri": "https://localhost:8080/"
        },
        "id": "FhlRo-YmbvrV",
        "outputId": "7c3097d1-4176-47b4-db59-c98f3ef4f1eb"
      },
      "execution_count": null,
      "outputs": [
        {
          "output_type": "execute_result",
          "data": {
            "text/plain": [
              "<sqlite3.Cursor at 0x7910d8b48a40>"
            ]
          },
          "metadata": {},
          "execution_count": 3
        }
      ]
    },
    {
      "cell_type": "markdown",
      "source": [
        "# Reading the data that you just inserted\n",
        "\n",
        "The segment below shows how to read the data from the student table.\n",
        "\n",
        "The keyword to read is **SELECT**\n",
        "\n",
        "Try these alternate ways:\n",
        "\n",
        "\n",
        "```\n",
        "rows = cursor.execute(\"SELECT name FROM student\").fetchall()\n",
        "```\n",
        "\n",
        "```\n",
        "rows = cursor.execute(\"SELECT email FROM student\").fetchall()\n",
        "```\n",
        "\n",
        "\n",
        "```\n",
        "rows = cursor.execute(\"SELECT * FROM student\").fetchall()\n",
        "```\n"
      ],
      "metadata": {
        "id": "AVN1muyv6P-g"
      }
    },
    {
      "cell_type": "code",
      "source": [
        "rows = cursor.execute(\"SELECT * FROM student\").fetchall()\n",
        "print(rows)"
      ],
      "metadata": {
        "colab": {
          "base_uri": "https://localhost:8080/"
        },
        "id": "qkT4_EJmcM6F",
        "outputId": "0ba03d4f-1542-4f12-bd0c-e123ea0f2aca"
      },
      "execution_count": null,
      "outputs": [
        {
          "output_type": "stream",
          "name": "stdout",
          "text": [
            "[('student 1', 'student1@gmail.com'), ('student 2', 'student2@gmail.com'), ('student 3', 'student3@gmail.com'), ('student 4', 'student4@gmail.com'), ('student 5', 'student5@gmail.com'), ('student 6', 'student6@gmail.com')]\n"
          ]
        }
      ]
    },
    {
      "cell_type": "markdown",
      "source": [
        "## Assignment: Creating a session table\n",
        "You are now required to create a session table with three columns\n",
        "* session_name (TEXT)\n",
        "* instructor (TEXT)\n",
        "* max_marks (INTEGER)\n",
        "\n",
        "and insert 5 dummy rows of data into that table and then finally read them back.\n",
        "\n",
        "Time duration 10 minutes.\n",
        "\n"
      ],
      "metadata": {
        "id": "86GvsWR56ZYC"
      }
    },
    {
      "cell_type": "markdown",
      "source": [
        "# Modifying data in a table\n",
        "\n",
        "In order to update a SQL table, we use the keywork *UPDATE*. In the query statement, we should indicate which column to modify and which rows. In this example, we update the max_marks for session 1.\n",
        "After this query you will find the max_marks updated from 100 to 10."
      ],
      "metadata": {
        "id": "Q2vwlE1YhqZ_"
      }
    },
    {
      "cell_type": "code",
      "source": [
        "new_max_marks = 10\n",
        "session = 'session 1'\n",
        "cursor.execute(\n",
        "    \"UPDATE session SET max_marks = ? WHERE session_name = ?\",\n",
        "    (new_max_marks, session)\n",
        ")"
      ],
      "metadata": {
        "colab": {
          "base_uri": "https://localhost:8080/"
        },
        "id": "XjiTES_PhptM",
        "outputId": "b060da6b-cfff-473b-fd14-73685a0b20fd"
      },
      "execution_count": null,
      "outputs": [
        {
          "output_type": "execute_result",
          "data": {
            "text/plain": [
              "<sqlite3.Cursor at 0x7910d8b48a40>"
            ]
          },
          "metadata": {},
          "execution_count": 8
        }
      ]
    },
    {
      "cell_type": "code",
      "source": [
        "rows = cursor.execute(\"SELECT * FROM session\").fetchall()\n",
        "print(rows)"
      ],
      "metadata": {
        "colab": {
          "base_uri": "https://localhost:8080/"
        },
        "id": "c2ou3ZpAiZeB",
        "outputId": "c90488db-bcb4-43eb-c3c8-795bf74ab482"
      },
      "execution_count": null,
      "outputs": [
        {
          "output_type": "stream",
          "name": "stdout",
          "text": [
            "[('session 1', 'instructor 1', 10), ('session 2', 'instructor 2', 200), ('session 3', 'instructor 3', 50), ('session 4', 'instructor 4', 75), ('session 5', 'instructor 5', 10)]\n"
          ]
        }
      ]
    },
    {
      "cell_type": "markdown",
      "source": [
        "## Assignment: Modifying data\n",
        "\n",
        "\n",
        "1.   Update the max_marks for instructor 3 to 300\n",
        "2.   Update all the max_marks to 300\n",
        "\n",
        "\n"
      ],
      "metadata": {
        "id": "rp20Pog9p7_i"
      }
    },
    {
      "cell_type": "markdown",
      "source": [
        "# Deleting a record from session table\n",
        "\n",
        "In order to delete a row from a table use the following query syntax:\n",
        "\n",
        "```\n",
        "DELETE FROM table_name WHERE condition\n",
        "```\n",
        "\n",
        "The following example shows how to delete instructor 5.\n"
      ],
      "metadata": {
        "id": "11X1jep3qqQU"
      }
    },
    {
      "cell_type": "code",
      "source": [
        "instructor = \"instructor 5\"\n",
        "cursor.execute(\n",
        "    \"DELETE FROM session WHERE instructor = ?\",\n",
        "    (instructor,)\n",
        ")\n",
        "rows = cursor.execute(\"SELECT * FROM session\").fetchall()\n",
        "print(rows)\n",
        "# you can try deleting few other records."
      ],
      "metadata": {
        "colab": {
          "base_uri": "https://localhost:8080/"
        },
        "id": "9fCoE8RFzRc0",
        "outputId": "b526cc29-6be1-4ddb-8395-140cdb61138c"
      },
      "execution_count": null,
      "outputs": [
        {
          "output_type": "stream",
          "name": "stdout",
          "text": [
            "[('session 1', 'instructor 1', 300), ('session 2', 'instructor 2', 300), ('session 3', 'instructor 3', 300), ('session 4', 'instructor 4', 300)]\n"
          ]
        }
      ]
    },
    {
      "cell_type": "markdown",
      "source": [
        "# Deleting a table from database\n",
        "\n",
        "To delete a full table, use the following query syntax:\n",
        "\n",
        "`DROP TABLE table_name;`\n",
        "\n",
        "The following example shows how to detele the session table."
      ],
      "metadata": {
        "id": "HaJLKBSqzzAa"
      }
    },
    {
      "cell_type": "code",
      "source": [
        "cursor.execute(\n",
        "    \"DROP TABLE session\"\n",
        ")\n",
        "# after deleting you cannot access the table\n",
        "rows = cursor.execute(\"SELECT * FROM session\").fetchall()\n",
        "print(rows)"
      ],
      "metadata": {
        "id": "xxIzGHGGzzky"
      },
      "execution_count": null,
      "outputs": []
    },
    {
      "cell_type": "markdown",
      "source": [
        "## Assignment : Deleting the student table\n",
        "\n",
        "Delete the student table from the database"
      ],
      "metadata": {
        "id": "SHrtgSxE4Q1f"
      }
    },
    {
      "cell_type": "code",
      "source": [
        "cursor.execute(\n",
        "    \"DROP TABLE student\"\n",
        ")\n",
        "# after deleting you cannot access the table\n",
        "rows = cursor.execute(\"SELECT * FROM student\").fetchall()\n",
        "print(rows)"
      ],
      "metadata": {
        "id": "iKRCGtlZ4QJ9"
      },
      "execution_count": null,
      "outputs": []
    },
    {
      "cell_type": "markdown",
      "source": [
        "# PRIMARY KEYS\n",
        "\n",
        "Primary keys are special columns in a table that carry an unique id for every row. SQL auto creates the unique id based on user provided constraints.\n",
        "\n",
        "For example, I can create a unique id based on student email so that two students using the same id are assigned the same primary keys.\n",
        "\n",
        "Primary keys entries cannot be left empty and should not be duplicates\n",
        "\n",
        "In the next task, we shall recreate the deleted student table and session table but with the primary key."
      ],
      "metadata": {
        "id": "wmSfYaZo76FL"
      }
    },
    {
      "cell_type": "code",
      "source": [
        "cursor.execute(\"CREATE TABLE student (name TEXT, email TEXT NOT NULL PRIMARY KEY)\")"
      ],
      "metadata": {
        "colab": {
          "base_uri": "https://localhost:8080/"
        },
        "id": "bz0IUvfM4z0c",
        "outputId": "3643e349-7191-4eb1-871f-0ea5be570a18"
      },
      "execution_count": null,
      "outputs": [
        {
          "output_type": "execute_result",
          "data": {
            "text/plain": [
              "<sqlite3.Cursor at 0x7910d8b48a40>"
            ]
          },
          "metadata": {},
          "execution_count": 14
        }
      ]
    },
    {
      "cell_type": "code",
      "source": [
        "cursor.execute(\"INSERT INTO student VALUES ('student 1', 'student1@gmail.com')\")\n",
        "cursor.execute(\"INSERT INTO student VALUES ('student 2', 'student2@gmail.com')\")\n",
        "cursor.execute(\"INSERT INTO student VALUES ('student 3', 'student3@gmail.com')\")\n",
        "cursor.execute(\"INSERT INTO student VALUES ('student 4', 'student4@gmail.com')\")\n",
        "cursor.execute(\"INSERT INTO student VALUES ('student 5', 'student5@gmail.com')\")\n",
        "cursor.execute(\"INSERT INTO student VALUES ('student 6', 'student6@gmail.com')\")\n",
        "\n",
        "rows = cursor.execute(\"SELECT * FROM student\").fetchall()\n",
        "print(rows)"
      ],
      "metadata": {
        "id": "7Fg0Bzs2_kVr"
      },
      "execution_count": null,
      "outputs": []
    },
    {
      "cell_type": "code",
      "source": [
        "# this statement will return an error since you are inserting a duplicate primary key\n",
        "cursor.execute(\"INSERT INTO student VALUES ('student 6', 'student6@gmail.com')\")"
      ],
      "metadata": {
        "id": "ERY3a6nV_ySL"
      },
      "execution_count": null,
      "outputs": []
    },
    {
      "cell_type": "markdown",
      "source": [
        "## Auto Increment column\n",
        "\n",
        "In many cases you may want to create a column which serves like a row_number or row_id. For such, the auto increment keyword may be used.\n",
        "For example, you may want to give each student a separate id.\n",
        "\n",
        "Lets create a student table with an additional auto increment column named student_id. Further we will the student_id column as primary key.\n",
        "\n",
        "Before that, we must delete the existing student table."
      ],
      "metadata": {
        "id": "AK27mhAxEAxx"
      }
    },
    {
      "cell_type": "code",
      "source": [
        "cursor.execute(\"DROP TABLE student\") # delete the table\n",
        "\n",
        "# student_id is an auto increment column and is also a primary key\n",
        "cursor.execute(\"CREATE TABLE student (student_id INTEGER  PRIMARY KEY AUTOINCREMENT, name TEXT, email TEXT)\")\n",
        "\n",
        "# inserting values, note that the auto increment values are not given! They are auto created and auto incremented!\n",
        "\n",
        "cursor.execute(\"INSERT INTO student (name, email) VALUES ('student 1', 'student1@gmail.com')\")\n",
        "cursor.execute(\"INSERT INTO student (name, email) VALUES ('student 2', 'student1@gmail.com')\")\n",
        "cursor.execute(\"INSERT INTO student (name, email) VALUES ('student 3', 'student1@gmail.com')\")\n",
        "cursor.execute(\"INSERT INTO student (name, email) VALUES ('student 4', 'student1@gmail.com')\")\n",
        "cursor.execute(\"INSERT INTO student (name, email) VALUES ('student 5', 'student1@gmail.com')\")\n",
        "cursor.execute(\"INSERT INTO student (name, email) VALUES ('student 6', 'student1@gmail.com')\")\n",
        "\n",
        "\n",
        "rows = cursor.execute(\"SELECT * FROM student\").fetchall()\n",
        "print(rows)\n",
        "# you should notice now how the id is autoincremented for every student"
      ],
      "metadata": {
        "colab": {
          "base_uri": "https://localhost:8080/"
        },
        "id": "DLSO_5ZPEwCz",
        "outputId": "2148fd48-4a4e-4f95-bcd2-46843b444cf3"
      },
      "execution_count": null,
      "outputs": [
        {
          "output_type": "stream",
          "name": "stdout",
          "text": [
            "[(1, 'student 1', 'student1@gmail.com'), (2, 'student 2', 'student1@gmail.com'), (3, 'student 3', 'student1@gmail.com'), (4, 'student 4', 'student1@gmail.com'), (5, 'student 5', 'student1@gmail.com'), (6, 'student 6', 'student1@gmail.com')]\n"
          ]
        }
      ]
    },
    {
      "cell_type": "markdown",
      "source": [
        "## Assignment: Create a session table with primary key\n",
        "\n",
        "\n",
        "Create a session table with session_id as primary key and autoincrement it"
      ],
      "metadata": {
        "id": "KK9PegoOAPYY"
      }
    },
    {
      "cell_type": "markdown",
      "source": [
        "# FOREIGN KEYS\n",
        "\n",
        "A FOREIGN KEY is a field (or collection of fields) in one table, that refers to the PRIMARY KEY in another table.\n",
        "\n",
        "The table with the foreign key is called the child table, and the table with the primary key is called the referenced or parent table.\n",
        "\n",
        "In the following exercise, we will demonstrate how to create a table that uses foreign keys.\n",
        "\n",
        "We will create a marks table which contains the marks of a student in a particular session. There will be three columns. First a link to a student, second, the link to a session and third, the marks."
      ],
      "metadata": {
        "id": "lUMaTm3bB984"
      }
    },
    {
      "cell_type": "code",
      "source": [
        "cursor.execute(\"CREATE TABLE marks (studentID INTEGER, sessionID INTEGER, marks INTEGER, FOREIGN KEY (studentID) REFERENCES student(student_id), FOREIGN KEY (sessionID) REFERENCES session(session_id) );\")\n",
        "\n",
        "cursor.execute(\"INSERT INTO marks VALUES (1, 1, 10)\")\n",
        "cursor.execute(\"INSERT INTO marks VALUES (1, 2, 20)\")\n",
        "cursor.execute(\"INSERT INTO marks VALUES (2, 1, 40)\")\n",
        "cursor.execute(\"INSERT INTO marks VALUES (3, 2, 40)\")\n",
        "\n",
        "rows = cursor.execute(\"SELECT * FROM marks\").fetchall()\n",
        "print(rows)\n"
      ],
      "metadata": {
        "colab": {
          "base_uri": "https://localhost:8080/"
        },
        "id": "e71aTjBYvT6R",
        "outputId": "fffbc474-f579-41fa-b192-cd2082f76cd9"
      },
      "execution_count": null,
      "outputs": [
        {
          "output_type": "stream",
          "name": "stdout",
          "text": [
            "[(1, 1, 10), (1, 2, 20), (2, 1, 40), (3, 2, 40)]\n"
          ]
        }
      ]
    },
    {
      "cell_type": "markdown",
      "source": [
        "# SQLITE Schema\n",
        "\n",
        "Every SQLite database contains a single \"schema table\" that stores the schema for that database. The schema for a database is a description of all of the other tables, indexes, triggers, and views that are contained within the database. The schema table looks like this:\n",
        "\n",
        "\n",
        "\n",
        "```\n",
        "CREATE TABLE sqlite_schema(\n",
        "  type text,\n",
        "  name text,\n",
        "  tbl_name text,\n",
        "  rootpage integer,\n",
        "  sql text\n",
        ");\n",
        "```\n",
        "\n"
      ],
      "metadata": {
        "id": "BwfW67BjOi02"
      }
    },
    {
      "cell_type": "code",
      "source": [
        "cursor.execute(\"SELECT name FROM sqlite_master WHERE type='table';\")\n",
        "print(cursor.fetchall())"
      ],
      "metadata": {
        "colab": {
          "base_uri": "https://localhost:8080/"
        },
        "id": "c_BNbhKxw2as",
        "outputId": "738dce9b-2449-457b-f9e4-681e0af934eb"
      },
      "execution_count": null,
      "outputs": [
        {
          "output_type": "stream",
          "name": "stdout",
          "text": [
            "[('student',), ('sqlite_sequence',), ('session',), ('marks',)]\n"
          ]
        }
      ]
    },
    {
      "cell_type": "code",
      "source": [
        "connection.commit() # is required after every insert"
      ],
      "metadata": {
        "id": "maPMqm1GO-kD"
      },
      "execution_count": null,
      "outputs": []
    },
    {
      "cell_type": "markdown",
      "source": [
        "https://sqliteviewer.app/"
      ],
      "metadata": {
        "id": "ikZfK_9_PzTz"
      }
    }
  ]
}